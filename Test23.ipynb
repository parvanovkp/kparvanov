{
 "cells": [
  {
   "cell_type": "code",
   "execution_count": 1,
   "id": "dcda8c7c-b20d-4741-9b92-8c98696d8249",
   "metadata": {},
   "outputs": [],
   "source": [
    "import numpy as np\n",
    "from sklearn.metrics import confusion_matrix\n",
    "import matplotlib.pyplot as plt\n",
    "import seaborn as sns\n",
    "\n",
    "def sigmoid(z):\n",
    "    return 1 / (1 + np.exp(-z))\n",
    "\n",
    "def sigmoid_derivative(z):\n",
    "    return z * (1 - z)\n",
    "\n",
    "def train_and_evaluate_nn(X_train, y_train, X_test, y_test, alpha=0.1, epochs=10000):\n",
    "    np.random.seed(0)  # for reproducibility\n",
    "    \n",
    "    # Initialize weights and biases\n",
    "    W1 = np.random.rand(2, 2)\n",
    "    b1 = np.random.rand(1, 2)\n",
    "    W2 = np.random.rand(2, 1)\n",
    "    b2 = np.random.rand(1, 1)\n",
    "\n",
    "    m_train = X_train.shape[0]  # number of training examples\n",
    "    \n",
    "    # Training the network\n",
    "    for epoch in range(epochs):\n",
    "        # Forward propagation\n",
    "        Z1 = np.dot(X_train, W1) + b1\n",
    "        A1 = sigmoid(Z1)\n",
    "        Z2 = np.dot(A1, W2) + b2\n",
    "        A2 = sigmoid(Z2)\n",
    "        \n",
    "        # Backward propagation\n",
    "        dZ2 = A2 - y_train\n",
    "        dW2 = np.dot(A1.T, dZ2)\n",
    "        db2 = np.sum(dZ2, axis=0, keepdims=True)\n",
    "        \n",
    "        dZ1 = np.dot(dZ2, W2.T) * sigmoid_derivative(A1)\n",
    "        dW1 = np.dot(X_train.T, dZ1)\n",
    "        db1 = np.sum(dZ1, axis=0, keepdims=True)\n",
    "        \n",
    "        # Update the weights and biases\n",
    "        W2 = W2 - alpha * dW2\n",
    "        b2 = b2 - alpha * db2\n",
    "        W1 = W1 - alpha * dW1\n",
    "        b1 = b1 - alpha * db1\n",
    "    \n",
    "    # Testing the network\n",
    "    Z1_test = np.dot(X_test, W1) + b1\n",
    "    A1_test = sigmoid(Z1_test)\n",
    "    Z2_test = np.dot(A1_test, W2) + b2\n",
    "    A2_test = sigmoid(Z2_test)\n",
    "    predictions = np.round(A2_test)  # Rounding to get binary outputs\n",
    "    \n",
    "    # Confusion matrix\n",
    "    cm = confusion_matrix(y_test, predictions)\n",
    "    \n",
    "    # Display the confusion matrix\n",
    "    plt.figure(figsize=(6, 6))\n",
    "    sns.heatmap(cm, annot=True, fmt='g', cmap='Blues', cbar=False)\n",
    "    plt.xlabel('Predicted')\n",
    "    plt.ylabel('Actual')\n",
    "    plt.title('Confusion Matrix')\n",
    "    plt.show()\n",
    "\n",
    "    return W1, b1, W2, b2\n"
   ]
  },
  {
   "cell_type": "code",
   "execution_count": 2,
   "id": "73680f41-7f1d-4f15-b197-30420e176001",
   "metadata": {},
   "outputs": [
    {
     "data": {
      "text/plain": [
       "((array([[0, 1],\n",
       "         [1, 0],\n",
       "         [1, 1],\n",
       "         [1, 1],\n",
       "         [1, 1]]),\n",
       "  array([[1],\n",
       "         [1],\n",
       "         [0],\n",
       "         [0],\n",
       "         [0]])),\n",
       " (array([[1, 1],\n",
       "         [0, 0],\n",
       "         [0, 1],\n",
       "         [0, 0],\n",
       "         [0, 1]]),\n",
       "  array([[0],\n",
       "         [0],\n",
       "         [1],\n",
       "         [0],\n",
       "         [1]])))"
      ]
     },
     "execution_count": 2,
     "metadata": {},
     "output_type": "execute_result"
    }
   ],
   "source": [
    "# Setting a random seed for reproducibility\n",
    "np.random.seed(0)\n",
    "\n",
    "# Generating synthetic data\n",
    "def generate_data(num_samples):\n",
    "    X = np.random.randint(0, 2, (num_samples, 2))\n",
    "    y = np.logical_xor(X[:, 0], X[:, 1]).astype(int).reshape(-1, 1)\n",
    "    return X, y\n",
    "\n",
    "# Generating training and testing data\n",
    "X_train, y_train = generate_data(1000)  # 1000 samples for training\n",
    "X_test, y_test = generate_data(300)  # 300 samples for testing\n",
    "\n",
    "(X_train[:5], y_train[:5]), (X_test[:5], y_test[:5])  # Displaying the first 5 samples from each dataset"
   ]
  },
  {
   "cell_type": "code",
   "execution_count": 5,
   "id": "d987d84e-7b6d-42cd-8633-61d1b687ec55",
   "metadata": {},
   "outputs": [
    {
     "data": {
      "image/png": "[encoded data removed]",
      "text/plain": [
       "<Figure size 600x600 with 1 Axes>"
      ]
     },
     "metadata": {},
     "output_type": "display_data"
    }
   ],
   "source": [
    "W1, b1, W2, b2 = train_and_evaluate_nn(X_train, y_train, X_test, y_test, alpha=0.01, epochs=10000)"
   ]
  },
  {
   "cell_type": "code",
   "execution_count": 10,
   "id": "98b8f0ea-b531-4f4d-82b9-550c777b8671",
   "metadata": {},
   "outputs": [
    {
     "ename": "PermissionError",
     "evalue": "[Errno 13] Permission denied: '/Library/Frameworks/Python.tex'",
     "output_type": "error",
     "traceback": [
      "\u001b[0;31m---------------------------------------------------------------------------\u001b[0m",
      "\u001b[0;31mPermissionError\u001b[0m                           Traceback (most recent call last)",
      "Cell \u001b[0;32mIn[10], line 27\u001b[0m\n\u001b[1;32m     24\u001b[0m     to_generate(arch, namefile \u001b[38;5;241m+\u001b[39m \u001b[38;5;124m'\u001b[39m\u001b[38;5;124m.tex\u001b[39m\u001b[38;5;124m'\u001b[39m )\n\u001b[1;32m     26\u001b[0m \u001b[38;5;28;01mif\u001b[39;00m \u001b[38;5;18m__name__\u001b[39m \u001b[38;5;241m==\u001b[39m \u001b[38;5;124m'\u001b[39m\u001b[38;5;124m__main__\u001b[39m\u001b[38;5;124m'\u001b[39m:\n\u001b[0;32m---> 27\u001b[0m     \u001b[43mmain\u001b[49m\u001b[43m(\u001b[49m\u001b[43m)\u001b[49m\n",
      "Cell \u001b[0;32mIn[10], line 24\u001b[0m, in \u001b[0;36mmain\u001b[0;34m()\u001b[0m\n\u001b[1;32m     22\u001b[0m \u001b[38;5;28;01mdef\u001b[39;00m \u001b[38;5;21mmain\u001b[39m():\n\u001b[1;32m     23\u001b[0m     namefile \u001b[38;5;241m=\u001b[39m \u001b[38;5;28mstr\u001b[39m(sys\u001b[38;5;241m.\u001b[39margv[\u001b[38;5;241m0\u001b[39m])\u001b[38;5;241m.\u001b[39msplit(\u001b[38;5;124m'\u001b[39m\u001b[38;5;124m.\u001b[39m\u001b[38;5;124m'\u001b[39m)[\u001b[38;5;241m0\u001b[39m]\n\u001b[0;32m---> 24\u001b[0m     \u001b[43mto_generate\u001b[49m\u001b[43m(\u001b[49m\u001b[43march\u001b[49m\u001b[43m,\u001b[49m\u001b[43m \u001b[49m\u001b[43mnamefile\u001b[49m\u001b[43m \u001b[49m\u001b[38;5;241;43m+\u001b[39;49m\u001b[43m \u001b[49m\u001b[38;5;124;43m'\u001b[39;49m\u001b[38;5;124;43m.tex\u001b[39;49m\u001b[38;5;124;43m'\u001b[39;49m\u001b[43m \u001b[49m\u001b[43m)\u001b[49m\n",
      "File \u001b[0;32m~/Downloads/parvanovkp.github.io/../tikzeng.py:205\u001b[0m, in \u001b[0;36mto_generate\u001b[0;34m(arch, pathname)\u001b[0m\n\u001b[1;32m    204\u001b[0m \u001b[38;5;28;01mdef\u001b[39;00m \u001b[38;5;21mto_generate\u001b[39m( arch, pathname\u001b[38;5;241m=\u001b[39m\u001b[38;5;124m\"\u001b[39m\u001b[38;5;124mfile.tex\u001b[39m\u001b[38;5;124m\"\u001b[39m ):\n\u001b[0;32m--> 205\u001b[0m     \u001b[38;5;28;01mwith\u001b[39;00m \u001b[38;5;28;43mopen\u001b[39;49m\u001b[43m(\u001b[49m\u001b[43mpathname\u001b[49m\u001b[43m,\u001b[49m\u001b[43m \u001b[49m\u001b[38;5;124;43m\"\u001b[39;49m\u001b[38;5;124;43mw\u001b[39;49m\u001b[38;5;124;43m\"\u001b[39;49m\u001b[43m)\u001b[49m \u001b[38;5;28;01mas\u001b[39;00m f: \n\u001b[1;32m    206\u001b[0m         \u001b[38;5;28;01mfor\u001b[39;00m c \u001b[38;5;129;01min\u001b[39;00m arch:\n\u001b[1;32m    207\u001b[0m             \u001b[38;5;28mprint\u001b[39m(c)\n",
      "\u001b[0;31mPermissionError\u001b[0m: [Errno 13] Permission denied: '/Library/Frameworks/Python.tex'"
     ]
    }
   ],
   "source": [
    "import sys\n",
    "sys.path.append('../')\n",
    "from tikzeng import *\n",
    "\n",
    "# defined your arch\n",
    "arch = [\n",
    "    to_head( '..' ),\n",
    "    to_cor(),\n",
    "    to_begin(),\n",
    "    to_Conv(\"conv1\", 512, 64, offset=\"(0,0,0)\", to=\"(0,0,0)\", height=64, depth=64, width=2 ),\n",
    "    to_Pool(\"pool1\", offset=\"(0,0,0)\", to=\"(conv1-east)\"),\n",
    "    to_Conv(\"conv2\", 128, 64, offset=\"(1,0,0)\", to=\"(pool1-east)\", height=32, depth=32, width=2 ),\n",
    "    to_connection( \"pool1\", \"conv2\"), \n",
    "    to_Pool(\"pool2\", offset=\"(0,0,0)\", to=\"(conv2-east)\", height=28, depth=28, width=1),\n",
    "    to_SoftMax(\"soft1\", 10 ,\"(3,0,0)\", \"(pool1-east)\", caption=\"SOFT\"  ),\n",
    "    to_connection(\"pool2\", \"soft1\"),    \n",
    "    to_Sum(\"sum1\", offset=\"(1.5,0,0)\", to=\"(soft1-east)\", radius=2.5, opacity=0.6),\n",
    "    to_connection(\"soft1\", \"sum1\"),\n",
    "    to_end()\n",
    "    ]\n",
    "\n",
    "def main():\n",
    "    namefile = str(sys.argv[0]).split('.')[0]\n",
    "    to_generate(arch, namefile + '.tex' )\n",
    "\n",
    "if __name__ == '__main__':\n",
    "    main()"
   ]
  },
  {
   "cell_type": "code",
   "execution_count": null,
   "id": "dc927a03-fef1-481b-b24d-9f26a2c28cc7",
   "metadata": {},
   "outputs": [],
   "source": []
  },
  {
   "cell_type": "code",
   "execution_count": null,
   "id": "0b835d7b-a5db-4db0-bb40-2ee3a2b09672",
   "metadata": {},
   "outputs": [],
   "source": []
  }
 ],
 "metadata": {
  "kernelspec": {
   "display_name": "Python 3 (ipykernel)",
   "language": "python",
   "name": "python3"
  },
  "language_info": {
   "codemirror_mode": {
    "name": "ipython",
    "version": 3
   },
   "file_extension": ".py",
   "mimetype": "text/x-python",
   "name": "python",
   "nbconvert_exporter": "python",
   "pygments_lexer": "ipython3",
   "version": "3.11.1"
  }
 },
 "nbformat": 4,
 "nbformat_minor": 5
}
